{
 "cells": [
  {
   "cell_type": "code",
   "execution_count": 24,
   "metadata": {},
   "outputs": [
    {
     "name": "stdout",
     "output_type": "stream",
     "text": [
      "Welcome to\n",
      "      ____              __\n",
      "     / __/__  ___ _____/ /__\n",
      "    _\\ \\/ _ \\/ _ `/ __/  '_/\n",
      "   /__ / .__/\\_,_/_/ /_/\\_\\   version 2.3.0\n",
      "      /_/\n",
      "\n",
      "Using Python version 3.6.4 (default, Jan 28 2018 00:00:00)\n",
      "SparkSession available as 'spark'.\n"
     ]
    }
   ],
   "source": [
    "import os\n",
    "import sys\n",
    "os.environ[\"PYSPARK_SUBMIT_ARGS\"]='pyspark-shell'\n",
    "os.environ[\"PYSPARK_PYTHON\"]='python3'\n",
    "os.environ[\"SPARK_HOME\"]='/usr/hdp/current/spark2-client'\n",
    "\n",
    "spark_home = os.environ.get('SPARK_HOME', None)\n",
    "if not spark_home:\n",
    "    raise ValueError('SPARK_HOME environment variable is not set')\n",
    "sys.path.insert(0, os.path.join(spark_home, 'python'))\n",
    "sys.path.insert(0, os.path.join(spark_home, 'python/lib/py4j-0.10.4-src.zip'))\n",
    "os.environ[\"PYSPARK_PYTHON\"] = 'python3'\n",
    "exec(open(os.path.join(spark_home, 'python/pyspark/shell.py')).read())"
   ]
  },
  {
   "cell_type": "code",
   "execution_count": 25,
   "metadata": {
    "collapsed": true
   },
   "outputs": [],
   "source": [
    "from pyspark.mllib.regression import LabeledPoint, LinearRegressionWithSGD\n",
    "from numpy import array\n",
    "import random"
   ]
  },
  {
   "cell_type": "code",
   "execution_count": 26,
   "metadata": {
    "collapsed": true
   },
   "outputs": [],
   "source": [
    "def gen_point(i):\n",
    "    x1 = random.uniform(-100,100)\n",
    "    x2 = random.uniform(-20,60)\n",
    "    return LabeledPoint(x1 * 10.0 + x2 * 25 + random.uniform(-2,2), [x1, x2])\n",
    "\n",
    "points = sc.parallelize(range(100000)).map(gen_point)"
   ]
  },
  {
   "cell_type": "code",
   "execution_count": 27,
   "metadata": {},
   "outputs": [
    {
     "data": {
      "text/plain": [
       "[LabeledPoint(175.51729190788961, [-47.89441274498605,26.19022320556057]),\n",
       " LabeledPoint(1202.5338637000914, [38.32186975657004,32.73174290206193]),\n",
       " LabeledPoint(176.35293805848238, [7.889355822216842,3.8335761614964525]),\n",
       " LabeledPoint(-339.73204420145913, [-0.08577526028648208,-13.495311187455155]),\n",
       " LabeledPoint(1163.805071461759, [37.37378593881644,31.67169341418394]),\n",
       " LabeledPoint(-338.51944845865717, [4.813563173088369,-15.528337818036002]),\n",
       " LabeledPoint(-1227.4449384499608, [-86.69754304927646,-14.404020971364728]),\n",
       " LabeledPoint(-347.9437009996504, [-43.73030893477245,3.5124503486493097]),\n",
       " LabeledPoint(191.6928430144413, [-25.255261678247123,17.714751133395062]),\n",
       " LabeledPoint(-672.3404562685955, [-64.50998513105155,-1.1246520389106323])]"
      ]
     },
     "execution_count": 27,
     "metadata": {},
     "output_type": "execute_result"
    }
   ],
   "source": [
    "points.takeSample(False, 10)"
   ]
  },
  {
   "cell_type": "markdown",
   "metadata": {},
   "source": [
    "## Do it the easy way"
   ]
  },
  {
   "cell_type": "code",
   "execution_count": 28,
   "metadata": {
    "collapsed": true
   },
   "outputs": [],
   "source": [
    "model = LinearRegressionWithSGD.train(points, \n",
    "            iterations=100, step=1e-4, intercept=True)"
   ]
  },
  {
   "cell_type": "code",
   "execution_count": 29,
   "metadata": {},
   "outputs": [
    {
     "data": {
      "text/plain": [
       "(weights=[9.981181780754241,20.67325856457534], intercept=1.4412311324626597)"
      ]
     },
     "execution_count": 29,
     "metadata": {},
     "output_type": "execute_result"
    }
   ],
   "source": [
    "model"
   ]
  },
  {
   "cell_type": "markdown",
   "metadata": {},
   "source": [
    "## Do it the hard way"
   ]
  },
  {
   "cell_type": "code",
   "execution_count": 30,
   "metadata": {
    "collapsed": true
   },
   "outputs": [],
   "source": [
    "weights = array([0, 0])\n",
    "step = 1e-9"
   ]
  },
  {
   "cell_type": "code",
   "execution_count": 31,
   "metadata": {
    "collapsed": true
   },
   "outputs": [],
   "source": [
    "x = points.map(lambda p: p.features)"
   ]
  },
  {
   "cell_type": "code",
   "execution_count": 32,
   "metadata": {
    "collapsed": true
   },
   "outputs": [],
   "source": [
    "y = points.map(lambda p: p.label)"
   ]
  },
  {
   "cell_type": "code",
   "execution_count": 33,
   "metadata": {},
   "outputs": [
    {
     "data": {
      "text/plain": [
       "[DenseVector([-99.4793, 24.1007]),\n",
       " DenseVector([38.9934, 46.4276]),\n",
       " DenseVector([-27.5514, -18.0038]),\n",
       " DenseVector([-26.9623, -10.4377]),\n",
       " DenseVector([-15.6088, 22.1985])]"
      ]
     },
     "execution_count": 33,
     "metadata": {},
     "output_type": "execute_result"
    }
   ],
   "source": [
    "x.take(5)"
   ]
  },
  {
   "cell_type": "code",
   "execution_count": 34,
   "metadata": {},
   "outputs": [
    {
     "data": {
      "text/plain": [
       "[692.9700084993823,\n",
       " 1026.3064792147816,\n",
       " -607.8570212443774,\n",
       " 545.4583814405335,\n",
       " -919.777148686593]"
      ]
     },
     "execution_count": 34,
     "metadata": {},
     "output_type": "execute_result"
    }
   ],
   "source": [
    "y.take(5)"
   ]
  },
  {
   "cell_type": "code",
   "execution_count": 35,
   "metadata": {
    "collapsed": true
   },
   "outputs": [],
   "source": [
    "prediction = x.map(lambda point: point.dot(weights))"
   ]
  },
  {
   "cell_type": "code",
   "execution_count": 36,
   "metadata": {},
   "outputs": [
    {
     "data": {
      "text/plain": [
       "[0.0, 0.0, 0.0, 0.0, 0.0]"
      ]
     },
     "execution_count": 36,
     "metadata": {},
     "output_type": "execute_result"
    }
   ],
   "source": [
    "prediction.take(5)"
   ]
  },
  {
   "cell_type": "code",
   "execution_count": 37,
   "metadata": {},
   "outputs": [],
   "source": [
    "gradient = x.zip(y).map(lambda xy: (xy[0].dot(weights) - xy[1]) * xy[0])"
   ]
  },
  {
   "cell_type": "code",
   "execution_count": 38,
   "metadata": {},
   "outputs": [
    {
     "data": {
      "text/plain": [
       "[DenseVector([8383.6626, -22522.668]),\n",
       " DenseVector([-18836.7628, -34659.2079]),\n",
       " DenseVector([-38598.3363, 636.4838]),\n",
       " DenseVector([-14704.2465, -6012.3232]),\n",
       " DenseVector([-67343.074, -6879.6198])]"
      ]
     },
     "execution_count": 38,
     "metadata": {},
     "output_type": "execute_result"
    }
   ],
   "source": [
    "gradient.take(5)"
   ]
  },
  {
   "cell_type": "code",
   "execution_count": 39,
   "metadata": {
    "collapsed": true
   },
   "outputs": [],
   "source": [
    "gradient_average = gradient.mean()"
   ]
  },
  {
   "cell_type": "code",
   "execution_count": 40,
   "metadata": {
    "collapsed": true
   },
   "outputs": [],
   "source": [
    "weights = weights - step * gradient_average"
   ]
  },
  {
   "cell_type": "code",
   "execution_count": 41,
   "metadata": {},
   "outputs": [
    {
     "data": {
      "text/plain": [
       "array([3.33582680e-05, 2.33304722e-05])"
      ]
     },
     "execution_count": 41,
     "metadata": {},
     "output_type": "execute_result"
    }
   ],
   "source": [
    "weights"
   ]
  },
  {
   "cell_type": "code",
   "execution_count": 42,
   "metadata": {
    "collapsed": true
   },
   "outputs": [],
   "source": [
    "iterations = 100\n",
    "weights = array([0, 0])\n",
    "step = 1e-2"
   ]
  },
  {
   "cell_type": "code",
   "execution_count": 43,
   "metadata": {},
   "outputs": [
    {
     "name": "stdout",
     "output_type": "stream",
     "text": [
      "0 [333.58268018 233.30472182] [-33358.26801833049,-23330.47218150352]\n",
      "1 [-10475.30970575  -1704.76361446] [1080889.2385936526,193806.8336279605]\n",
      "2 [339896.60336776  14198.3078449 ] [-35037191.30735179,-1590307.1459360325]\n",
      "3 [-11018610.08979547   -109898.78243564] [1135850669.3163233,12409709.02805384]\n",
      "4 [3.57215894e+08 6.47618960e+05] [-36823450371.88883,-75751774.22418861]\n",
      "5 [-1.15807580e+10  3.33118647e+06] [1193797391225.3948,-268356751.00775594]\n",
      "6 [ 3.75442905e+11 -3.10920189e+08] [-38702366275535.04,31425137591.55202]\n",
      "7 [-1.21716931e+13  1.17726927e+10] [1254713596798469.2,-1208361284090.593]\n",
      "8 [ 3.94600952e+14 -3.95786773e+11] [-4.067726448968771e+16,40755946552064.02]\n",
      "9 [-1.27927902e+16  1.29490328e+13] [1.3187391123335616e+18,-1334481953788527.5]\n",
      "10 [ 4.14736662e+17 -4.20784651e+14] [-4.2752945197644505e+19,4.337336836771403e+16]\n",
      "11 [-1.34455812e+19  1.36498518e+16] [1.3860317856095428e+21,-1.4070636420058153e+18]\n",
      "12 [ 4.35899862e+20 -4.42590607e+17] [-4.493454434071061e+22,4.5624045915898225e+19]\n"
     ]
    }
   ],
   "source": [
    "for i in range(iterations):\n",
    "    gradient = x.zip(y).map(lambda xy: (xy[0].dot(weights) - xy[1]) * xy[0]).mean()\n",
    "    weights = weights - step * gradient\n",
    "    print(i, weights, gradient)"
   ]
  },
  {
   "cell_type": "code",
   "execution_count": null,
   "metadata": {
    "collapsed": true
   },
   "outputs": [],
   "source": []
  }
 ],
 "metadata": {
  "kernelspec": {
   "display_name": "Python 3",
   "language": "python",
   "name": "python3"
  },
  "language_info": {
   "codemirror_mode": {
    "name": "ipython",
    "version": 3
   },
   "file_extension": ".py",
   "mimetype": "text/x-python",
   "name": "python",
   "nbconvert_exporter": "python",
   "pygments_lexer": "ipython3",
   "version": "3.5.2"
  }
 },
 "nbformat": 4,
 "nbformat_minor": 2
}

{
 "cells": [
  {
   "cell_type": "code",
   "execution_count": 1,
   "metadata": {},
   "outputs": [
    {
     "name": "stdout",
     "output_type": "stream",
     "text": [
      "Welcome to\n",
      "      ____              __\n",
      "     / __/__  ___ _____/ /__\n",
      "    _\\ \\/ _ \\/ _ `/ __/  '_/\n",
      "   /__ / .__/\\_,_/_/ /_/\\_\\   version 2.3.0.cloudera2\n",
      "      /_/\n",
      "\n",
      "Using Python version 3.4.3 (default, Nov 17 2016 01:08:31)\n",
      "SparkSession available as 'spark'.\n"
     ]
    }
   ],
   "source": [
    "import os\n",
    "import sys\n",
    "os.environ[\"PYSPARK_SUBMIT_ARGS\"]='pyspark-shell'\n",
    "os.environ[\"PYSPARK_PYTHON\"]='python3'\n",
    "os.environ[\"SPARK_HOME\"]='/opt/cloudera/parcels/SPARK2/lib/spark2/'\n",
    "\n",
    "spark_home = os.environ.get('SPARK_HOME', None)\n",
    "if not spark_home:\n",
    "    raise ValueError('SPARK_HOME environment variable is not set')\n",
    "sys.path.insert(0, os.path.join(spark_home, 'python'))\n",
    "sys.path.insert(0, os.path.join(spark_home, 'python/lib/py4j-0.10.6-src.zip'))\n",
    "os.environ[\"PYSPARK_PYTHON\"] = 'python3'\n",
    "exec(open(os.path.join(spark_home, 'python/pyspark/shell.py')).read())"
   ]
  },
  {
   "cell_type": "code",
   "execution_count": 2,
   "metadata": {
    "collapsed": true
   },
   "outputs": [],
   "source": [
    "from pyspark.ml.feature import *\n",
    "from pyspark.ml import Pipeline"
   ]
  },
  {
   "cell_type": "code",
   "execution_count": 3,
   "metadata": {
    "collapsed": true
   },
   "outputs": [],
   "source": [
    "train_df = spark.read.parquet('/data/amazon/train.parquet')\n",
    "test_df = spark.read.parquet('/data/amazon/test.parquet')"
   ]
  },
  {
   "cell_type": "code",
   "execution_count": 4,
   "metadata": {},
   "outputs": [
    {
     "data": {
      "text/plain": [
       "DataFrame[asin: string, reviewerID: string, helpful: array<bigint>, overall: double, reviewText: string, reviewTime: string, reviewerName: string, summary: string, unixReviewTime: bigint]"
      ]
     },
     "execution_count": 4,
     "metadata": {},
     "output_type": "execute_result"
    }
   ],
   "source": [
    "train_df"
   ]
  },
  {
   "cell_type": "code",
   "execution_count": 5,
   "metadata": {
    "collapsed": true
   },
   "outputs": [],
   "source": [
    "tokenizer = Tokenizer(inputCol=\"reviewText\", outputCol=\"words\")"
   ]
  },
  {
   "cell_type": "code",
   "execution_count": 6,
   "metadata": {
    "collapsed": true
   },
   "outputs": [],
   "source": [
    "stop_words = StopWordsRemover.loadDefaultStopWords(\"english\")\n",
    "swr = StopWordsRemover(inputCol=tokenizer.getOutputCol(), outputCol=\"words_filtered\", stopWords=stop_words)"
   ]
  },
  {
   "cell_type": "code",
   "execution_count": 7,
   "metadata": {
    "collapsed": true
   },
   "outputs": [],
   "source": [
    "train_tok = tokenizer.transform(train_df)\n",
    "test_tok = tokenizer.transform(test_df)"
   ]
  },
  {
   "cell_type": "code",
   "execution_count": 8,
   "metadata": {
    "collapsed": true
   },
   "outputs": [],
   "source": [
    "hasher = HashingTF(numFeatures=10000, binary=True, inputCol=swr.getOutputCol(), outputCol=\"word_vector\")"
   ]
  },
  {
   "cell_type": "code",
   "execution_count": 9,
   "metadata": {
    "collapsed": true
   },
   "outputs": [],
   "source": [
    "from pyspark.ml.regression import LinearRegression"
   ]
  },
  {
   "cell_type": "code",
   "execution_count": 10,
   "metadata": {
    "collapsed": true
   },
   "outputs": [],
   "source": [
    "lr = LinearRegression(featuresCol=hasher.getOutputCol(), labelCol=\"overall\", maxIter=15)"
   ]
  },
  {
   "cell_type": "code",
   "execution_count": 11,
   "metadata": {
    "collapsed": true
   },
   "outputs": [],
   "source": [
    "pipeline = Pipeline(stages=[\n",
    "    tokenizer,\n",
    "    swr,\n",
    "    hasher,\n",
    "    lr\n",
    "])"
   ]
  },
  {
   "cell_type": "code",
   "execution_count": 12,
   "metadata": {
    "collapsed": true
   },
   "outputs": [],
   "source": [
    "pipeline_model = pipeline.fit(train_df)"
   ]
  },
  {
   "cell_type": "code",
   "execution_count": 14,
   "metadata": {},
   "outputs": [],
   "source": [
    "pipeline_model.save(\"model\")"
   ]
  },
  {
   "cell_type": "code",
   "execution_count": 45,
   "metadata": {
    "collapsed": true
   },
   "outputs": [],
   "source": [
    "predictions = pipeline_model.transform(train_df)"
   ]
  },
  {
   "cell_type": "code",
   "execution_count": 46,
   "metadata": {},
   "outputs": [
    {
     "name": "stdout",
     "output_type": "stream",
     "text": [
      "+----------+--------------+-------+-------+--------------------+-----------+---------------+--------------------+--------------+--------------------+--------------------+--------------------+------------------+\n",
      "|      asin|    reviewerID|helpful|overall|          reviewText| reviewTime|   reviewerName|             summary|unixReviewTime|               words|      words_filtered|         word_vector|        prediction|\n",
      "+----------+--------------+-------+-------+--------------------+-----------+---------------+--------------------+--------------+--------------------+--------------------+--------------------+------------------+\n",
      "|0972683275|A2IDCSC6NVONIZ| [1, 1]|    5.0|This mount is jus...|04 30, 2013|        2Cents!|             Perfect|    1367280000|[this, mount, is,...|[mount, needed., ...|(10000,[778,945,1...| 4.628821908491464|\n",
      "|0972683275| A7060R14RJF3I| [0, 0]|    4.0|Took a bit of wor...|05 18, 2013|Amazon Customer|               Works|    1368835200|[took, a, bit, of...|[took, bit, work,...|(10000,[43,165,18...|4.3215887944897196|\n",
      "|0972683275| AD3L2C20LB7EP| [0, 0]|    5.0|quickly shipped t...|04 18, 2011|           jose|VideoSecu Tv wall...|    1303084800|[quickly, shipped...|[quickly, shipped...|(10000,[332,505,8...| 5.010200206983497|\n",
      "|140053271X|A1EARN5PUVIF1S| [3, 3]|    5.0|This is the third...|08 28, 2011|Jerry P. Danzig|     The Right Touch|    1314489600|[this, is, the, t...|[third, ebook, re...|(10000,[20,68,84,...| 5.440367361293754|\n",
      "|140053271X| AOQYN0MQVWSJR| [1, 1]|    5.0|I bought it and l...|02 24, 2012|          Odice|Simple, Lightweig...|    1330041600|[i, bought, it, a...|[bought, love, it...|(10000,[68,173,38...|   4.5708576432194|\n",
      "|9573212919|A2S4ALQNVY89W0| [0, 0]|    5.0|I bought this ext...|01 11, 2013|           meri|         A must have|    1357862400|[i, bought, this,...|[bought, external...|(10000,[586,1056,...| 4.900808595419517|\n",
      "|9625993428|A34WISS43CVLDP| [0, 0]|    4.0|...you must unplu...| 01 9, 2012|           k.a.|Works on 2nd gen ...|    1326067200|[...you, must, un...|[...you, must, un...|(10000,[1023,1274...|  3.90530002385883|\n",
      "|9984984354|A1LCR2QXP8PBB5| [0, 0]|    5.0|This product is o...| 04 5, 2013|            BUZ|sturdy constructi...|    1365120000|[this, product, i...|[product, sturdy,...|(10000,[157,618,1...| 4.527417497837036|\n",
      "|B00000J1EJ|A1X0990QXMJIY7| [5, 5]|    1.0|I got these headp...|10 21, 2008|     I Marshall|Consider them \"di...|    1224547200|[i, got, these, h...|[got, headphones,...|(10000,[89,1034,1...|2.5470256155653046|\n",
      "|B00000J1EP|A3NR9E16US91MM| [0, 0]|    4.0|SO FAR, I HAVE BE...| 01 8, 2014|    STEVE PURDY|MAXELL NORMAL BIA...|    1389139200|[so, far,, i, hav...|[far,, able, use,...|(10000,[264,870,1...| 4.729325816908101|\n",
      "+----------+--------------+-------+-------+--------------------+-----------+---------------+--------------------+--------------+--------------------+--------------------+--------------------+------------------+\n",
      "only showing top 10 rows\n",
      "\n"
     ]
    }
   ],
   "source": [
    "predictions.show(10)"
   ]
  },
  {
   "cell_type": "code",
   "execution_count": 50,
   "metadata": {
    "collapsed": true
   },
   "outputs": [],
   "source": [
    "from pyspark.ml.evaluation import  RegressionEvaluator\n",
    "evaluator = RegressionEvaluator(predictionCol=\"predictions\", labelCol=\"overall\")"
   ]
  },
  {
   "cell_type": "code",
   "execution_count": 52,
   "metadata": {},
   "outputs": [
    {
     "data": {
      "text/plain": [
       "0.9595187571498409"
      ]
     },
     "execution_count": 52,
     "metadata": {},
     "output_type": "execute_result"
    }
   ],
   "source": [
    "evaluator.evaluate(predictions)"
   ]
  },
  {
   "cell_type": "code",
   "execution_count": 53,
   "metadata": {
    "collapsed": true
   },
   "outputs": [],
   "source": [
    "test_predictions = pipeline_model.transform(test_df)"
   ]
  },
  {
   "cell_type": "code",
   "execution_count": 99,
   "metadata": {
    "collapsed": true
   },
   "outputs": [],
   "source": [
    "from pyspark.sql import functions as sf\n",
    "from pyspark.sql.functions import *\n",
    "\n",
    "def create_submission(predictions):\n",
    "    selection = predictions.select([\"asin\", \"reviewerID\", \"prediction\"])\n",
    "    selection = selection.withColumn('id', sf.concat(sf.col('asin'),sf.lit('+'), sf.col('reviewerID')))\n",
    "    selection = selection.drop(\"asin\")\n",
    "    selection = selection.drop(\"reviewerID\")\n",
    "    \n",
    "    solution = selection.select(col(\"id\"), col(\"prediction\").alias(\"rating\"))\n",
    "    solution.show(10)\n",
    "    solution.repartition(1).write.csv('submission.csv', header=True)"
   ]
  },
  {
   "cell_type": "code",
   "execution_count": 100,
   "metadata": {},
   "outputs": [
    {
     "name": "stdout",
     "output_type": "stream",
     "text": [
      "+--------------------+------------------+\n",
      "|                  id|            rating|\n",
      "+--------------------+------------------+\n",
      "|B000MCGF1O+A3NF14...| 4.815537286702539|\n",
      "|B008X9Z8NE+A1045N...| 4.504974166336569|\n",
      "|B00B99JU5M+AIA5WY...| 4.603447831343314|\n",
      "|B002IPHA3A+AXX57L...|4.7297543125722274|\n",
      "|B00884WH74+A4WEZJ...| 4.966771318775946|\n",
      "|B001FY0B90+A140J1...| 4.001172535008404|\n",
      "|B007WTAJTO+A2XW4C...|5.7656135361364695|\n",
      "|B006UV6YMQ+A226R1...| 3.413559215767966|\n",
      "|B0015DYMVO+A2UOHA...| 4.279609146380762|\n",
      "|B0042J9BQE+A3N48N...|   4.0152214935724|\n",
      "+--------------------+------------------+\n",
      "only showing top 10 rows\n",
      "\n"
     ]
    }
   ],
   "source": [
    "create_submission(test_predictions)"
   ]
  },
  {
   "cell_type": "code",
   "execution_count": null,
   "metadata": {
    "collapsed": true
   },
   "outputs": [],
   "source": []
  }
 ],
 "metadata": {
  "kernelspec": {
   "display_name": "Python 3",
   "language": "python",
   "name": "python3"
  },
  "language_info": {
   "codemirror_mode": {
    "name": "ipython",
    "version": 3
   },
   "file_extension": ".py",
   "mimetype": "text/x-python",
   "name": "python",
   "nbconvert_exporter": "python",
   "pygments_lexer": "ipython3",
   "version": "3.5.2"
  }
 },
 "nbformat": 4,
 "nbformat_minor": 2
}

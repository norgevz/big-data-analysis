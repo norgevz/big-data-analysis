{
 "cells": [
  {
   "cell_type": "code",
   "execution_count": 1,
   "metadata": {},
   "outputs": [
    {
     "name": "stdout",
     "output_type": "stream",
     "text": [
      "Welcome to\n",
      "      ____              __\n",
      "     / __/__  ___ _____/ /__\n",
      "    _\\ \\/ _ \\/ _ `/ __/  '_/\n",
      "   /__ / .__/\\_,_/_/ /_/\\_\\   version 2.3.0\n",
      "      /_/\n",
      "\n",
      "Using Python version 3.6.4 (default, Jan 28 2018 00:00:00)\n",
      "SparkSession available as 'spark'.\n"
     ]
    }
   ],
   "source": [
    "import os\n",
    "import sys\n",
    "os.environ[\"PYSPARK_SUBMIT_ARGS\"]='pyspark-shell'\n",
    "os.environ[\"PYSPARK_PYTHON\"]='python3'\n",
    "os.environ[\"SPARK_HOME\"]='/usr/hdp/current/spark2-client'\n",
    "\n",
    "spark_home = os.environ.get('SPARK_HOME', None)\n",
    "if not spark_home:\n",
    "    raise ValueError('SPARK_HOME environment variable is not set')\n",
    "sys.path.insert(0, os.path.join(spark_home, 'python'))\n",
    "sys.path.insert(0, os.path.join(spark_home, 'python/lib/py4j-0.10.4-src.zip'))\n",
    "os.environ[\"PYSPARK_PYTHON\"] = 'python3'\n",
    "exec(open(os.path.join(spark_home, 'python/pyspark/shell.py')).read())"
   ]
  },
  {
   "cell_type": "code",
   "execution_count": 2,
   "metadata": {},
   "outputs": [
    {
     "data": {
      "text/html": [
       "\n",
       "            <div>\n",
       "                <p><b>SparkSession - hive</b></p>\n",
       "                \n",
       "        <div>\n",
       "            <p><b>SparkContext</b></p>\n",
       "\n",
       "            <p><a href=\"http://master.nplcloud.com:4051\">Spark UI</a></p>\n",
       "\n",
       "            <dl>\n",
       "              <dt>Version</dt>\n",
       "                <dd><code>v2.3.0</code></dd>\n",
       "              <dt>Master</dt>\n",
       "                <dd><code>yarn</code></dd>\n",
       "              <dt>AppName</dt>\n",
       "                <dd><code>pyspark-shell</code></dd>\n",
       "            </dl>\n",
       "        </div>\n",
       "        \n",
       "            </div>\n",
       "        "
      ],
      "text/plain": [
       "<pyspark.sql.session.SparkSession at 0x7f3137c93c88>"
      ]
     },
     "execution_count": 2,
     "metadata": {},
     "output_type": "execute_result"
    }
   ],
   "source": [
    "spark"
   ]
  },
  {
   "cell_type": "markdown",
   "metadata": {},
   "source": [
    "![ALS](pics/mf.png)"
   ]
  },
  {
   "cell_type": "markdown",
   "metadata": {},
   "source": [
    "## Our goal is to represent the matrix of user-item ratings as the product of two LOW RANK matrices \n",
    "## $$R = U \\times P^\\top $$ \n",
    "## where \n",
    "## $$U \\in \\mathbb{R}^{n \\times k}, k \\ll n$$\n",
    "## and \n",
    "## $$P \\in \\mathbb{R}^{m \\times k}, k \\ll m$$"
   ]
  },
  {
   "cell_type": "markdown",
   "metadata": {},
   "source": [
    "## This means that\n",
    "## $$R_{i,j} = u_i \\bullet p_j$$\n",
    "## recalling\n",
    "## $$\\cos(\\theta) = \\frac{a \\bullet b}{\\|a\\|\\|b\\|}$$"
   ]
  },
  {
   "cell_type": "markdown",
   "metadata": {},
   "source": [
    "## How do we find a solution? By minimizing the cost function!\n",
    "## $$J = \\|R - U \\times P^\\top\\|_2 + \\lambda(\\|U\\|_2 + \\|P\\|_2)$$"
   ]
  },
  {
   "cell_type": "markdown",
   "metadata": {},
   "source": [
    "## How do we optimize this?\n",
    "![GD](pics/gradient_descent.jpeg)"
   ]
  },
  {
   "cell_type": "markdown",
   "metadata": {},
   "source": [
    "## There are two problems here though:\n",
    "+ the number of parameters is $n \\times k + m \\times k$\n",
    "+ the loss is non-convex (https://www.quora.com/Why-is-the-matrix-factorization-optimization-function-in-recommender-systems-not-convex)"
   ]
  },
  {
   "cell_type": "markdown",
   "metadata": {},
   "source": [
    "## So what do we do? ALS (alternating least squares)\n",
    "## Recall Ordinary Least Squares\n",
    "## $$J(\\beta) = \\|y - X\\beta\\|_2$$\n",
    "## $$\\beta = (X^\\top X)^{-1}X^\\top y$$"
   ]
  },
  {
   "cell_type": "markdown",
   "metadata": {},
   "source": [
    "## ALS is a two-step iterative optimization process\n",
    "## $$ \\forall u_i : J(u_i) = \\|R_i - u_i \\times P^\\top\\|_2 + \\lambda\\|u_i\\|_2$$\n",
    "## $$ \\forall p_j : J(p_j) = \\|R_i - U \\times p^{\\top}_{j}\\|_2 + \\lambda\\|p_j\\|_2$$\n",
    "## The solution is\n",
    "## $$u_i = (P^\\top \\times P + \\lambda I)^{-1} \\times P^\\top \\times R_i$$\n",
    "## $$p_j = (U^\\top \\times U + \\lambda I)^{-1} \\times U^\\top \\times R_j$$"
   ]
  },
  {
   "cell_type": "code",
   "execution_count": 3,
   "metadata": {
    "collapsed": true
   },
   "outputs": [],
   "source": [
    "from pyspark.sql.types import *"
   ]
  },
  {
   "cell_type": "code",
   "execution_count": 4,
   "metadata": {
    "collapsed": true
   },
   "outputs": [],
   "source": [
    "schema = StructType([\n",
    "    StructField(\"user\", IntegerType()),\n",
    "    StructField(\"item\", IntegerType()),\n",
    "    StructField(\"rating\", IntegerType()),\n",
    "    StructField(\"timestamp\", LongType())\n",
    "])"
   ]
  },
  {
   "cell_type": "code",
   "execution_count": 5,
   "metadata": {},
   "outputs": [],
   "source": [
    "dataset = spark.read.csv(\"/share/ml-100k/ua.base\", sep=\"\\t\", schema=schema).drop(\"timestamp\").repartition(20).cache()"
   ]
  },
  {
   "cell_type": "code",
   "execution_count": 6,
   "metadata": {},
   "outputs": [
    {
     "data": {
      "text/plain": [
       "[Row(user=297, item=1, rating=3),\n",
       " Row(user=119, item=924, rating=4),\n",
       " Row(user=373, item=230, rating=4),\n",
       " Row(user=900, item=508, rating=3),\n",
       " Row(user=13, item=828, rating=1)]"
      ]
     },
     "execution_count": 6,
     "metadata": {},
     "output_type": "execute_result"
    }
   ],
   "source": [
    "dataset.take(5)"
   ]
  },
  {
   "cell_type": "code",
   "execution_count": 7,
   "metadata": {},
   "outputs": [
    {
     "data": {
      "text/plain": [
       "20"
      ]
     },
     "execution_count": 7,
     "metadata": {},
     "output_type": "execute_result"
    }
   ],
   "source": [
    "dataset.rdd.getNumPartitions()"
   ]
  },
  {
   "cell_type": "code",
   "execution_count": 8,
   "metadata": {
    "collapsed": true
   },
   "outputs": [],
   "source": [
    "from pyspark.ml.recommendation import ALS"
   ]
  },
  {
   "cell_type": "code",
   "execution_count": 9,
   "metadata": {
    "collapsed": true
   },
   "outputs": [],
   "source": [
    "als = ALS(rank=10, maxIter=5, seed=5757)"
   ]
  },
  {
   "cell_type": "code",
   "execution_count": 10,
   "metadata": {},
   "outputs": [],
   "source": [
    "model = als.fit(dataset)"
   ]
  },
  {
   "cell_type": "code",
   "execution_count": 11,
   "metadata": {},
   "outputs": [
    {
     "data": {
      "text/plain": [
       "10"
      ]
     },
     "execution_count": 11,
     "metadata": {},
     "output_type": "execute_result"
    }
   ],
   "source": [
    "model.rank"
   ]
  },
  {
   "cell_type": "code",
   "execution_count": 12,
   "metadata": {
    "collapsed": true
   },
   "outputs": [],
   "source": [
    "test = spark.read.csv(\"/share/ml-100k/ua.test\", sep=\"\\t\", schema=schema).drop(\"timestamp\").repartition(4).cache()"
   ]
  },
  {
   "cell_type": "code",
   "execution_count": 13,
   "metadata": {
    "collapsed": true
   },
   "outputs": [],
   "source": [
    "predictions = model.transform(test)"
   ]
  },
  {
   "cell_type": "code",
   "execution_count": 14,
   "metadata": {},
   "outputs": [
    {
     "data": {
      "text/plain": [
       "[Row(user=251, item=148, rating=2, prediction=3.0381240844726562),\n",
       " Row(user=580, item=148, rating=4, prediction=3.0317912101745605),\n",
       " Row(user=602, item=148, rating=4, prediction=3.5022647380828857),\n",
       " Row(user=372, item=148, rating=5, prediction=3.834611177444458),\n",
       " Row(user=274, item=148, rating=2, prediction=3.3601744174957275)]"
      ]
     },
     "execution_count": 14,
     "metadata": {},
     "output_type": "execute_result"
    }
   ],
   "source": [
    "predictions.take(5)"
   ]
  },
  {
   "cell_type": "code",
   "execution_count": 15,
   "metadata": {
    "collapsed": true
   },
   "outputs": [],
   "source": [
    "from pyspark.ml.evaluation import RegressionEvaluator"
   ]
  },
  {
   "cell_type": "code",
   "execution_count": 16,
   "metadata": {
    "collapsed": true
   },
   "outputs": [],
   "source": [
    "evaluator = RegressionEvaluator(labelCol=\"rating\", metricName=\"rmse\")"
   ]
  },
  {
   "cell_type": "code",
   "execution_count": 17,
   "metadata": {},
   "outputs": [
    {
     "data": {
      "text/plain": [
       "nan"
      ]
     },
     "execution_count": 17,
     "metadata": {},
     "output_type": "execute_result"
    }
   ],
   "source": [
    "evaluator.evaluate(predictions)"
   ]
  },
  {
   "cell_type": "code",
   "execution_count": 18,
   "metadata": {},
   "outputs": [
    {
     "data": {
      "text/plain": [
       "[Row(rating=1, count=542),\n",
       " Row(rating=3, count=2424),\n",
       " Row(rating=5, count=2153),\n",
       " Row(rating=4, count=3316),\n",
       " Row(rating=2, count=995)]"
      ]
     },
     "execution_count": 18,
     "metadata": {},
     "output_type": "execute_result"
    }
   ],
   "source": [
    "predictions.groupBy(\"rating\").count().collect()"
   ]
  },
  {
   "cell_type": "code",
   "execution_count": 19,
   "metadata": {
    "collapsed": true
   },
   "outputs": [],
   "source": [
    "import pyspark.sql.functions as f"
   ]
  },
  {
   "cell_type": "code",
   "execution_count": 20,
   "metadata": {},
   "outputs": [
    {
     "data": {
      "text/plain": [
       "2"
      ]
     },
     "execution_count": 20,
     "metadata": {},
     "output_type": "execute_result"
    }
   ],
   "source": [
    "predictions.filter(f.isnan(\"prediction\")).count()"
   ]
  },
  {
   "cell_type": "code",
   "execution_count": 21,
   "metadata": {},
   "outputs": [
    {
     "data": {
      "text/plain": [
       "[Row(user=675, item=1653, rating=5, prediction=nan),\n",
       " Row(user=405, item=1582, rating=1, prediction=nan)]"
      ]
     },
     "execution_count": 21,
     "metadata": {},
     "output_type": "execute_result"
    }
   ],
   "source": [
    "predictions.filter(f.isnan(\"prediction\")).collect()"
   ]
  },
  {
   "cell_type": "code",
   "execution_count": 22,
   "metadata": {},
   "outputs": [
    {
     "data": {
      "text/plain": [
       "[Row(user=675, item=235, rating=1),\n",
       " Row(user=675, item=311, rating=3),\n",
       " Row(user=675, item=937, rating=1),\n",
       " Row(user=675, item=258, rating=3),\n",
       " Row(user=675, item=900, rating=4),\n",
       " Row(user=675, item=242, rating=4),\n",
       " Row(user=675, item=750, rating=4),\n",
       " Row(user=675, item=86, rating=4),\n",
       " Row(user=675, item=272, rating=3),\n",
       " Row(user=675, item=244, rating=3),\n",
       " Row(user=675, item=318, rating=5),\n",
       " Row(user=675, item=891, rating=2),\n",
       " Row(user=675, item=344, rating=4),\n",
       " Row(user=675, item=1628, rating=5),\n",
       " Row(user=675, item=1007, rating=4),\n",
       " Row(user=675, item=303, rating=5),\n",
       " Row(user=675, item=223, rating=1),\n",
       " Row(user=675, item=427, rating=5),\n",
       " Row(user=675, item=286, rating=4),\n",
       " Row(user=675, item=896, rating=5),\n",
       " Row(user=675, item=269, rating=5),\n",
       " Row(user=675, item=312, rating=2),\n",
       " Row(user=675, item=321, rating=2),\n",
       " Row(user=675, item=463, rating=5)]"
      ]
     },
     "execution_count": 22,
     "metadata": {},
     "output_type": "execute_result"
    }
   ],
   "source": [
    "dataset.filter(dataset.user == 675).collect()"
   ]
  },
  {
   "cell_type": "code",
   "execution_count": 23,
   "metadata": {},
   "outputs": [
    {
     "data": {
      "text/plain": [
       "[]"
      ]
     },
     "execution_count": 23,
     "metadata": {},
     "output_type": "execute_result"
    }
   ],
   "source": [
    "dataset.filter(dataset.item == 1653).collect()"
   ]
  },
  {
   "cell_type": "code",
   "execution_count": 24,
   "metadata": {},
   "outputs": [
    {
     "data": {
      "text/plain": [
       "[]"
      ]
     },
     "execution_count": 24,
     "metadata": {},
     "output_type": "execute_result"
    }
   ],
   "source": [
    "dataset.filter((dataset.user == 675) & (dataset.item == 1582)).collect()"
   ]
  },
  {
   "cell_type": "code",
   "execution_count": 25,
   "metadata": {
    "collapsed": true
   },
   "outputs": [],
   "source": [
    "predictions = predictions.dropna()"
   ]
  },
  {
   "cell_type": "code",
   "execution_count": 26,
   "metadata": {},
   "outputs": [
    {
     "data": {
      "text/plain": [
       "0.9590533627741923"
      ]
     },
     "execution_count": 26,
     "metadata": {},
     "output_type": "execute_result"
    }
   ],
   "source": [
    "evaluator.evaluate(predictions)"
   ]
  },
  {
   "cell_type": "markdown",
   "metadata": {},
   "source": [
    "## But how do we deal with the cold start in Spark?!"
   ]
  },
  {
   "cell_type": "code",
   "execution_count": 27,
   "metadata": {
    "collapsed": true
   },
   "outputs": [],
   "source": [
    "model = als.fit(dataset, params={als.coldStartStrategy: \"drop\"})"
   ]
  },
  {
   "cell_type": "code",
   "execution_count": 28,
   "metadata": {},
   "outputs": [
    {
     "data": {
      "text/plain": [
       "'drop'"
      ]
     },
     "execution_count": 28,
     "metadata": {},
     "output_type": "execute_result"
    }
   ],
   "source": [
    "model.getOrDefault(\"coldStartStrategy\")"
   ]
  },
  {
   "cell_type": "code",
   "execution_count": 29,
   "metadata": {
    "collapsed": true
   },
   "outputs": [],
   "source": [
    "predictions = model.transform(test)"
   ]
  },
  {
   "cell_type": "code",
   "execution_count": 30,
   "metadata": {},
   "outputs": [
    {
     "data": {
      "text/plain": [
       "0.9590533627741922"
      ]
     },
     "execution_count": 30,
     "metadata": {},
     "output_type": "execute_result"
    }
   ],
   "source": [
    "evaluator.evaluate(predictions)"
   ]
  },
  {
   "cell_type": "markdown",
   "metadata": {},
   "source": [
    "## Can we do better?"
   ]
  },
  {
   "cell_type": "code",
   "execution_count": 93,
   "metadata": {},
   "outputs": [],
   "source": [
    "model = als.fit(dataset, params={als.coldStartStrategy: \"drop\", als.maxIter: 20})"
   ]
  },
  {
   "cell_type": "code",
   "execution_count": 94,
   "metadata": {
    "collapsed": true
   },
   "outputs": [],
   "source": [
    "predictions = model.transform(test)"
   ]
  },
  {
   "cell_type": "code",
   "execution_count": 95,
   "metadata": {},
   "outputs": [
    {
     "data": {
      "text/plain": [
       "0.9558872242636991"
      ]
     },
     "execution_count": 95,
     "metadata": {},
     "output_type": "execute_result"
    }
   ],
   "source": [
    "evaluator.evaluate(predictions)"
   ]
  },
  {
   "cell_type": "markdown",
   "metadata": {},
   "source": [
    "## Or even better?"
   ]
  },
  {
   "cell_type": "code",
   "execution_count": 97,
   "metadata": {
    "collapsed": true
   },
   "outputs": [],
   "source": [
    "model = als.fit(dataset, params={als.coldStartStrategy: \"drop\", als.maxIter: 20, als.rank: 100})"
   ]
  },
  {
   "cell_type": "code",
   "execution_count": 98,
   "metadata": {
    "collapsed": true
   },
   "outputs": [],
   "source": [
    "predictions = model.transform(test)"
   ]
  },
  {
   "cell_type": "code",
   "execution_count": 99,
   "metadata": {},
   "outputs": [
    {
     "data": {
      "text/plain": [
       "0.9475039684939921"
      ]
     },
     "execution_count": 99,
     "metadata": {},
     "output_type": "execute_result"
    }
   ],
   "source": [
    "evaluator.evaluate(predictions)"
   ]
  },
  {
   "cell_type": "markdown",
   "metadata": {},
   "source": [
    "## What else do we have here?"
   ]
  },
  {
   "cell_type": "code",
   "execution_count": 31,
   "metadata": {},
   "outputs": [
    {
     "data": {
      "text/plain": [
       "[Row(item=1342, recommendations=[Row(user=662, rating=3.724311590194702), Row(user=118, rating=3.557661533355713), Row(user=440, rating=3.4993064403533936), Row(user=270, rating=3.4897232055664062), Row(user=427, rating=3.3939871788024902)]),\n",
       " Row(item=148, recommendations=[Row(user=507, rating=4.894386291503906), Row(user=907, rating=4.649669647216797), Row(user=513, rating=4.618252277374268), Row(user=688, rating=4.602916240692139), Row(user=849, rating=4.570733070373535)]),\n",
       " Row(item=1088, recommendations=[Row(user=36, rating=3.9826483726501465), Row(user=644, rating=3.8986754417419434), Row(user=137, rating=3.739666700363159), Row(user=309, rating=3.6950972080230713), Row(user=471, rating=3.689685344696045)]),\n",
       " Row(item=1238, recommendations=[Row(user=519, rating=4.736871719360352), Row(user=810, rating=4.2670488357543945), Row(user=36, rating=4.163325309753418), Row(user=688, rating=3.951127529144287), Row(user=126, rating=3.911823272705078)]),\n",
       " Row(item=1580, recommendations=[Row(user=78, rating=1.286027193069458), Row(user=152, rating=1.2627148628234863), Row(user=38, rating=1.2498953342437744), Row(user=462, rating=1.2394310235977173), Row(user=532, rating=1.2108019590377808)])]"
      ]
     },
     "execution_count": 31,
     "metadata": {},
     "output_type": "execute_result"
    }
   ],
   "source": [
    "model.recommendForAllItems(5).take(5)"
   ]
  },
  {
   "cell_type": "code",
   "execution_count": 32,
   "metadata": {},
   "outputs": [
    {
     "data": {
      "text/plain": [
       "[Row(user=496, recommendations=[Row(item=838, rating=5.011465549468994), Row(item=1589, rating=4.678163051605225), Row(item=320, rating=4.476866722106934), Row(item=1449, rating=4.4084930419921875), Row(item=853, rating=4.3602375984191895)]),\n",
       " Row(user=148, recommendations=[Row(item=1463, rating=5.407992839813232), Row(item=1643, rating=5.2708821296691895), Row(item=169, rating=4.9199419021606445), Row(item=1449, rating=4.914376735687256), Row(item=1367, rating=4.882181167602539)]),\n",
       " Row(user=463, recommendations=[Row(item=1463, rating=4.4693193435668945), Row(item=1449, rating=4.301555156707764), Row(item=1512, rating=4.2987494468688965), Row(item=1084, rating=4.217663764953613), Row(item=1251, rating=4.2151079177856445)]),\n",
       " Row(user=833, recommendations=[Row(item=1368, rating=5.062682628631592), Row(item=1643, rating=4.714048862457275), Row(item=1536, rating=4.3504438400268555), Row(item=1597, rating=4.296138763427734), Row(item=320, rating=4.292140007019043)]),\n",
       " Row(user=471, recommendations=[Row(item=309, rating=6.0114521980285645), Row(item=1159, rating=5.500847816467285), Row(item=1427, rating=5.2851433753967285), Row(item=982, rating=5.198998928070068), Row(item=353, rating=5.153749942779541)])]"
      ]
     },
     "execution_count": 32,
     "metadata": {},
     "output_type": "execute_result"
    }
   ],
   "source": [
    "model.recommendForAllUsers(5).take(5)"
   ]
  },
  {
   "cell_type": "code",
   "execution_count": 34,
   "metadata": {},
   "outputs": [
    {
     "data": {
      "text/plain": [
       "[Row(id=10, features=[0.4910842180252075, 0.5687710046768188, 0.6812558770179749, -0.5482439398765564, 0.27426472306251526, 0.3678845167160034, -1.098655104637146, 0.2107856124639511, 0.8881864547729492, 0.2629821300506592]),\n",
       " Row(id=20, features=[0.9072177410125732, 0.5339254140853882, 0.5115773677825928, -1.2328755855560303, 0.542868435382843, 0.44991403818130493, -0.4627978801727295, 0.22674496471881866, -0.17887842655181885, -0.09169133007526398]),\n",
       " Row(id=30, features=[0.5513217449188232, 0.30307069420814514, 0.8260578513145447, -0.6058114171028137, 0.48463699221611023, 0.17869749665260315, -0.6395977735519409, 1.0904102325439453, 0.3720622658729553, -0.11694475263357162]),\n",
       " Row(id=40, features=[1.0447009801864624, 0.25295910239219666, -0.10710208117961884, -0.6006267666816711, 0.36589130759239197, -0.19846627116203308, -0.24621443450450897, 0.017913779243826866, 1.0390408039093018, 0.5447020530700684]),\n",
       " Row(id=50, features=[0.6331756711006165, 0.15788942575454712, 0.9226818084716797, -0.8854452967643738, -0.11024339497089386, -0.7634314894676208, -0.7152856588363647, 0.6881659030914307, 0.21486206352710724, 0.42081698775291443])]"
      ]
     },
     "execution_count": 34,
     "metadata": {},
     "output_type": "execute_result"
    }
   ],
   "source": [
    "model.itemFactors.take(5)"
   ]
  },
  {
   "cell_type": "code",
   "execution_count": 35,
   "metadata": {},
   "outputs": [
    {
     "data": {
      "text/plain": [
       "[Row(id=10, features=[0.9489773511886597, 0.5666304230690002, 1.103602409362793, -1.2175092697143555, 0.11277274787425995, -0.24626755714416504, -0.7906545400619507, 1.0588929653167725, 0.6422020792961121, 0.6299095749855042]),\n",
       " Row(id=20, features=[1.147719383239746, 0.6592509746551514, -0.3106571137905121, -1.272091031074524, -0.3390337824821472, -0.4940218925476074, -0.4846492409706116, 0.5361677408218384, 0.9728611707687378, 0.6635444760322571]),\n",
       " Row(id=30, features=[0.5372956395149231, 0.13461139798164368, 0.7390300631523132, -1.470736026763916, 0.1607738584280014, 0.02893531695008278, -0.9771374464035034, 1.3123841285705566, 1.0575284957885742, 0.3354685306549072]),\n",
       " Row(id=40, features=[0.5047808289527893, -0.5589486360549927, 0.3527592420578003, -1.2439231872558594, 0.2284407764673233, -0.24316594004631042, -1.0813521146774292, 0.6494705677032471, 0.464910089969635, 0.448367714881897]),\n",
       " Row(id=50, features=[0.6008652448654175, 0.12734994292259216, 2.0770909786224365, -0.7320007681846619, -0.6551476120948792, 0.6967977285385132, 0.1172209158539772, 0.2603878676891327, 1.1748950481414795, -0.7050464153289795])]"
      ]
     },
     "execution_count": 35,
     "metadata": {},
     "output_type": "execute_result"
    }
   ],
   "source": [
    "model.userFactors.count()"
   ]
  },
  {
   "cell_type": "code",
   "execution_count": null,
   "metadata": {
    "collapsed": true
   },
   "outputs": [],
   "source": [
    "model.itemFactors.crossJoin(model.userFactors)"
   ]
  }
 ],
 "metadata": {
  "kernelspec": {
   "display_name": "Python 3",
   "language": "python",
   "name": "python3"
  },
  "language_info": {
   "codemirror_mode": {
    "name": "ipython",
    "version": 3
   },
   "file_extension": ".py",
   "mimetype": "text/x-python",
   "name": "python",
   "nbconvert_exporter": "python",
   "pygments_lexer": "ipython3",
   "version": "3.5.2"
  }
 },
 "nbformat": 4,
 "nbformat_minor": 2
}

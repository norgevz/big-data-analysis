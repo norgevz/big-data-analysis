{
 "cells": [
  {
   "cell_type": "code",
   "execution_count": 60,
   "metadata": {},
   "outputs": [
    {
     "name": "stdout",
     "output_type": "stream",
     "text": [
      "Welcome to\n",
      "      ____              __\n",
      "     / __/__  ___ _____/ /__\n",
      "    _\\ \\/ _ \\/ _ `/ __/  '_/\n",
      "   /__ / .__/\\_,_/_/ /_/\\_\\   version 2.3.0.cloudera2\n",
      "      /_/\n",
      "\n",
      "Using Python version 3.4.3 (default, Nov 17 2016 01:08:31)\n",
      "SparkSession available as 'spark'.\n"
     ]
    }
   ],
   "source": [
    "import os\n",
    "import sys\n",
    "os.environ[\"PYSPARK_SUBMIT_ARGS\"]='--jars /home/pklemenkov/hsu/lectures/kafka-clients-0.10.0.1.jar,/home/pklemenkov/hsu/lectures/spark-sql-kafka-0-10_2.11-2.3.0.jar pyspark-shell'\n",
    "os.environ[\"PYSPARK_PYTHON\"]='python3'\n",
    "os.environ[\"SPARK_HOME\"]='/opt/cloudera/parcels/SPARK2/lib/spark2/'\n",
    "\n",
    "spark_home = os.environ.get('SPARK_HOME', None)\n",
    "if not spark_home:\n",
    "    raise ValueError('SPARK_HOME environment variable is not set')\n",
    "sys.path.insert(0, os.path.join(spark_home, 'python'))\n",
    "sys.path.insert(0, os.path.join(spark_home, 'python/lib/py4j-0.10.6-src.zip'))\n",
    "os.environ[\"PYSPARK_PYTHON\"] = 'python3'\n",
    "exec(open(os.path.join(spark_home, 'python/pyspark/shell.py')).read())"
   ]
  },
  {
   "cell_type": "code",
   "execution_count": 61,
   "metadata": {},
   "outputs": [
    {
     "data": {
      "text/html": [
       "\n",
       "            <div>\n",
       "                <p><b>SparkSession - hive</b></p>\n",
       "                \n",
       "        <div>\n",
       "            <p><b>SparkContext</b></p>\n",
       "\n",
       "            <p><a href=\"http://virtual-client.bigdatateam.ru:4040\">Spark UI</a></p>\n",
       "\n",
       "            <dl>\n",
       "              <dt>Version</dt>\n",
       "                <dd><code>v2.3.0.cloudera2</code></dd>\n",
       "              <dt>Master</dt>\n",
       "                <dd><code>yarn</code></dd>\n",
       "              <dt>AppName</dt>\n",
       "                <dd><code>pyspark-shell</code></dd>\n",
       "            </dl>\n",
       "        </div>\n",
       "        \n",
       "            </div>\n",
       "        "
      ],
      "text/plain": [
       "<pyspark.sql.session.SparkSession at 0x7fcab18e0fd0>"
      ]
     },
     "execution_count": 61,
     "metadata": {},
     "output_type": "execute_result"
    }
   ],
   "source": [
    "spark"
   ]
  },
  {
   "cell_type": "markdown",
   "metadata": {},
   "source": [
    "![big_picture](https://spark.apache.org/docs/latest/img/structured-streaming-stream-as-a-table.png)"
   ]
  },
  {
   "cell_type": "markdown",
   "metadata": {},
   "source": [
    "![programming_model](https://spark.apache.org/docs/latest/img/structured-streaming-model.png)"
   ]
  },
  {
   "cell_type": "markdown",
   "metadata": {},
   "source": [
    "The “Output” is defined as what gets written out to the external storage. The output can be defined in a different mode:\n",
    "\n",
    "**Complete Mode** - The entire updated Result Table will be written to the external storage. It is up to the storage connector to decide how to handle writing of the entire table.\n",
    "\n",
    "**Append Mode** - Only the new rows appended in the Result Table since the last trigger will be written to the external storage. This is applicable only on the queries where existing rows in the Result Table are not expected to change.\n",
    "\n",
    "**Update Mode** - Only the rows that were updated in the Result Table since the last trigger will be written to the external storage (available since Spark 2.1.1). Note that this is different from the Complete Mode in that this mode only outputs the rows that have changed since the last trigger. If the query doesn’t contain aggregations, it will be equivalent to Append mode."
   ]
  },
  {
   "cell_type": "markdown",
   "metadata": {},
   "source": [
    "![quick_example](https://spark.apache.org/docs/latest/img/structured-streaming-example-model.png)"
   ]
  },
  {
   "cell_type": "code",
   "execution_count": 62,
   "metadata": {},
   "outputs": [
    {
     "name": "stdout",
     "output_type": "stream",
     "text": [
      "Populating the interactive namespace from numpy and matplotlib\n"
     ]
    },
    {
     "name": "stderr",
     "output_type": "stream",
     "text": [
      "/usr/local/lib/python3.4/dist-packages/IPython/core/magics/pylab.py:160: UserWarning: pylab import has clobbered these variables: ['f']\n",
      "`%matplotlib` prevents importing * from pylab and numpy\n",
      "  \"\\n`%matplotlib` prevents importing * from pylab and numpy\"\n"
     ]
    }
   ],
   "source": [
    "%pylab inline"
   ]
  },
  {
   "cell_type": "code",
   "execution_count": 63,
   "metadata": {
    "collapsed": true
   },
   "outputs": [],
   "source": [
    "plt.rcParams[\"figure.figsize\"] = 15, 10"
   ]
  },
  {
   "cell_type": "code",
   "execution_count": 64,
   "metadata": {
    "collapsed": true
   },
   "outputs": [],
   "source": [
    "import seaborn as sns\n",
    "sns.set_style(\"whitegrid\")"
   ]
  },
  {
   "cell_type": "code",
   "execution_count": 65,
   "metadata": {},
   "outputs": [
    {
     "name": "stdout",
     "output_type": "stream",
     "text": [
      "Found 49 items\r\n",
      "-rw-r--r--   3 pklemenkov pklemenkov      72530 2018-06-27 02:26 /user/pklemenkov/lectures/lecture05/events/file-0.json\r\n",
      "-rw-r--r--   3 pklemenkov pklemenkov      72961 2018-06-27 02:26 /user/pklemenkov/lectures/lecture05/events/file-1.json\r\n",
      "-rw-r--r--   3 pklemenkov pklemenkov      73025 2018-06-27 02:26 /user/pklemenkov/lectures/lecture05/events/file-10.json\r\n",
      "-rw-r--r--   3 pklemenkov pklemenkov      72999 2018-06-27 02:26 /user/pklemenkov/lectures/lecture05/events/file-11.json\r\n",
      "-rw-r--r--   3 pklemenkov pklemenkov      72987 2018-06-27 02:26 /user/pklemenkov/lectures/lecture05/events/file-12.json\r\n",
      "-rw-r--r--   3 pklemenkov pklemenkov      73006 2018-06-27 02:26 /user/pklemenkov/lectures/lecture05/events/file-13.json\r\n",
      "-rw-r--r--   3 pklemenkov pklemenkov      73003 2018-06-27 02:26 /user/pklemenkov/lectures/lecture05/events/file-14.json\r\n",
      "-rw-r--r--   3 pklemenkov pklemenkov      73007 2018-06-27 02:26 /user/pklemenkov/lectures/lecture05/events/file-15.json\r\n",
      "-rw-r--r--   3 pklemenkov pklemenkov      72978 2018-06-27 02:26 /user/pklemenkov/lectures/lecture05/events/file-16.json\r\n"
     ]
    }
   ],
   "source": [
    "!hdfs dfs -ls /user/pklemenkov/lectures/lecture05/events|head"
   ]
  },
  {
   "cell_type": "markdown",
   "metadata": {},
   "source": [
    "There are about 50 JSON files in the directory. Let's see what each JSON file contains."
   ]
  },
  {
   "cell_type": "code",
   "execution_count": 66,
   "metadata": {},
   "outputs": [
    {
     "name": "stdout",
     "output_type": "stream",
     "text": [
      "Close\"}\r\n",
      "{\"time\":1469506565,\"action\":\"Close\"}\r\n",
      "{\"time\":1469506565,\"action\":\"Close\"}\r\n",
      "{\"time\":1469506566,\"action\":\"Close\"}\r\n",
      "{\"time\":1469506566,\"action\":\"Open\"}\r\n",
      "{\"time\":1469506567,\"action\":\"Open\"}\r\n",
      "{\"time\":1469506569,\"action\":\"Open\"}\r\n",
      "{\"time\":1469506570,\"action\":\"Open\"}\r\n",
      "{\"time\":1469506572,\"action\":\"Open\"}\r\n",
      "{\"time\":1469506575,\"action\":\"Close\"}\r\n",
      "{\"time\":1469506576,\"action\":\"Close\"}\r\n",
      "{\"time\":1469506583,\"action\":\"Close\"}\r\n",
      "{\"time\":1469506584,\"action\":\"Open\"}\r\n",
      "{\"time\":1469506588,\"action\":\"Open\"}\r\n",
      "{\"time\":1469506588,\"action\":\"Open\"}\r\n",
      "{\"time\":1469506589,\"action\":\"Open\"}\r\n",
      "{\"time\":1469506595,\"action\":\"Close\"}\r\n",
      "{\"time\":1469506598,\"action\":\"Open\"}\r\n",
      "{\"time\":1469506600,\"action\":\"Open\"}\r\n",
      "{\"time\":1469506601,\"action\":\"Open\"}\r\n",
      "{\"time\":1469506607,\"action\":\"Open\"}\r\n",
      "{\"time\":1469506607,\"action\":\"Open\"}\r\n",
      "{\"time\":1469506608,\"action\":\"Open\"}\r\n",
      "{\"time\":1469506608,\"action\":\"Open\"}\r\n",
      "{\"time\":1469506613,\"action\":\"Close\"}\r\n",
      "{\"time\":1469506621,\"action\":\"Open\"}\r\n",
      "{\"time\":1469506626,\"action\":\"Open\"}\r\n",
      "{\"time\":1469506630,\"action\":\"Open\"}\r\n",
      "{\"time\":1469506631,\"action\":\"Close\"}"
     ]
    }
   ],
   "source": [
    "!hdfs dfs -tail /user/pklemenkov/lectures/lecture05/events/file-0.json"
   ]
  },
  {
   "cell_type": "markdown",
   "metadata": {},
   "source": [
    "Each line in the file contains JSON record with two fields - `time` and `action`. Let's try to analyze these files interactively."
   ]
  },
  {
   "cell_type": "markdown",
   "metadata": {},
   "source": [
    "## Batch/Interactive Processing\n",
    "The usual first step in attempting to process the data is to interactively query the data. Let's define a static DataFrame on the files, and give it a table name."
   ]
  },
  {
   "cell_type": "code",
   "execution_count": 67,
   "metadata": {
    "collapsed": true
   },
   "outputs": [],
   "source": [
    "from pyspark.sql.types import *\n",
    "\n",
    "inputPath = \"/user/pklemenkov/lectures/lecture05/events/\"\n",
    "\n",
    "# Since we know the data format already, let's define the schema to speed up processing (no need for Spark to infer schema)\n",
    "jsonSchema = StructType(fields = [ \n",
    "    StructField(\"time\", TimestampType(), True), \n",
    "    StructField(\"action\", StringType(), True) \n",
    "])\n",
    "\n",
    "# Static DataFrame representing data in the JSON files\n",
    "staticInputDF = spark.read\\\n",
    "                     .schema(jsonSchema)\\\n",
    "                     .json(inputPath)"
   ]
  },
  {
   "cell_type": "code",
   "execution_count": 68,
   "metadata": {},
   "outputs": [
    {
     "name": "stdout",
     "output_type": "stream",
     "text": [
      "+-------------------+------+\n",
      "|               time|action|\n",
      "+-------------------+------+\n",
      "|2016-07-28 07:19:28| Close|\n",
      "|2016-07-28 07:19:28| Close|\n",
      "|2016-07-28 07:19:29|  Open|\n",
      "|2016-07-28 07:19:31| Close|\n",
      "|2016-07-28 07:19:31|  Open|\n",
      "+-------------------+------+\n",
      "only showing top 5 rows\n",
      "\n"
     ]
    }
   ],
   "source": [
    "staticInputDF.show(5)"
   ]
  },
  {
   "cell_type": "markdown",
   "metadata": {},
   "source": [
    "Now we can compute the number of \"open\" and \"close\" actions with one hour windows. To do this, we will group by the `action` column and 1 hour windows over the `time` column."
   ]
  },
  {
   "cell_type": "code",
   "execution_count": 79,
   "metadata": {
    "collapsed": true
   },
   "outputs": [],
   "source": [
    "import pyspark.sql.functions as f"
   ]
  },
  {
   "cell_type": "code",
   "execution_count": 70,
   "metadata": {
    "collapsed": true
   },
   "outputs": [],
   "source": [
    "staticCountsDF = staticInputDF\\\n",
    "                  .groupBy(staticInputDF.action, f.window(staticInputDF.time, \"1 hour\"))\\\n",
    "                  .count()\n",
    "        \n",
    "staticCountsDF.cache()\n",
    "\n",
    "# Register the DataFrame as table 'static_counts'\n",
    "staticCountsDF.createOrReplaceTempView(\"static_counts\")"
   ]
  },
  {
   "cell_type": "markdown",
   "metadata": {},
   "source": [
    "Now we can directly use SQL to query the table. For example, here are the total counts across all the hours."
   ]
  },
  {
   "cell_type": "code",
   "execution_count": 71,
   "metadata": {},
   "outputs": [
    {
     "name": "stdout",
     "output_type": "stream",
     "text": [
      "+------+-----------+\n",
      "|action|total_count|\n",
      "+------+-----------+\n",
      "|  Open|      48987|\n",
      "| Close|      49013|\n",
      "+------+-----------+\n",
      "\n"
     ]
    }
   ],
   "source": [
    "spark.sql(\"select action, sum(count) as total_count from static_counts group by action\").show()"
   ]
  },
  {
   "cell_type": "code",
   "execution_count": 72,
   "metadata": {
    "collapsed": true
   },
   "outputs": [],
   "source": [
    "pdf = spark.sql(\"select action, sum(count) as total_count from static_counts group by action\").toPandas()"
   ]
  },
  {
   "cell_type": "code",
   "execution_count": 73,
   "metadata": {},
   "outputs": [
    {
     "data": {
      "text/plain": [
       "<matplotlib.axes.AxesSubplot at 0x7fcab1efbc50>"
      ]
     },
     "execution_count": 73,
     "metadata": {},
     "output_type": "execute_result"
    },
    {
     "data": {
      "image/png": "[encoded data removed]",
      "text/plain": [
       "<matplotlib.figure.Figure at 0x7fcab19b9588>"
      ]
     },
     "metadata": {},
     "output_type": "display_data"
    }
   ],
   "source": [
    "sns.barplot(x=\"action\", y=\"total_count\", data=pdf)"
   ]
  },
  {
   "cell_type": "markdown",
   "metadata": {},
   "source": [
    "How about a timeline of windowed counts?"
   ]
  },
  {
   "cell_type": "code",
   "execution_count": 74,
   "metadata": {},
   "outputs": [
    {
     "name": "stdout",
     "output_type": "stream",
     "text": [
      "+------+------------+-----+\n",
      "|action|        time|count|\n",
      "+------+------------+-----+\n",
      "| Close|Jul-26 06:00|   11|\n",
      "|  Open|Jul-26 06:00|  179|\n",
      "| Close|Jul-26 07:00|  344|\n",
      "|  Open|Jul-26 07:00| 1001|\n",
      "| Close|Jul-26 08:00|  815|\n",
      "|  Open|Jul-26 08:00|  999|\n",
      "| Close|Jul-26 09:00| 1003|\n",
      "|  Open|Jul-26 09:00| 1000|\n",
      "| Close|Jul-26 10:00| 1011|\n",
      "|  Open|Jul-26 10:00|  993|\n",
      "| Close|Jul-26 11:00|  989|\n",
      "|  Open|Jul-26 11:00| 1008|\n",
      "| Close|Jul-26 12:00|  985|\n",
      "|  Open|Jul-26 12:00|  996|\n",
      "| Close|Jul-26 13:00|  983|\n",
      "|  Open|Jul-26 13:00| 1000|\n",
      "| Close|Jul-26 14:00| 1022|\n",
      "|  Open|Jul-26 14:00| 1007|\n",
      "| Close|Jul-26 15:00| 1028|\n",
      "|  Open|Jul-26 15:00|  991|\n",
      "+------+------------+-----+\n",
      "only showing top 20 rows\n",
      "\n"
     ]
    }
   ],
   "source": [
    "query = \"\"\"select action, date_format(window.end, \"MMM-dd HH:mm\") as time, count \n",
    "           from static_counts order by time, action\n",
    "        \"\"\"\n",
    "\n",
    "spark.sql(query).show()"
   ]
  },
  {
   "cell_type": "code",
   "execution_count": 75,
   "metadata": {
    "collapsed": true
   },
   "outputs": [],
   "source": [
    "pdf = spark.sql(query).toPandas()"
   ]
  },
  {
   "cell_type": "code",
   "execution_count": 76,
   "metadata": {},
   "outputs": [
    {
     "data": {
      "image/png": "[encoded data removed]",
      "text/plain": [
       "<matplotlib.figure.Figure at 0x7fcab3f8edd8>"
      ]
     },
     "metadata": {},
     "output_type": "display_data"
    }
   ],
   "source": [
    "f = sns.barplot(x=\"time\", y=\"count\", hue=\"action\", data=pdf)\n",
    "for item in f.get_xticklabels():\n",
    "    item.set_rotation(45)"
   ]
  },
  {
   "cell_type": "markdown",
   "metadata": {},
   "source": [
    "Note the two ends of the graph. The close actions are generated such that they are after the corresponding open actions, so there are more \"opens\" in the beginning and more \"closes\" in the end."
   ]
  },
  {
   "cell_type": "markdown",
   "metadata": {},
   "source": [
    "## Stream Processing \n",
    "Now that we have analyzed the data interactively, let's convert this to a streaming query that continuously updates as data comes. Since we just have a static set of files, we are going to emulate a stream from them by reading one file at a time, in the chronological order they were created. The query we have to write is pretty much the same as the interactive query above."
   ]
  },
  {
   "cell_type": "code",
   "execution_count": 77,
   "metadata": {},
   "outputs": [],
   "source": [
    "# Similar to definition of staticInputDF above, just using `readStream` instead of `read`\n",
    "streamingInputDF = spark.readStream\\\n",
    "                        .schema(jsonSchema)\\\n",
    "                        .option(\"maxFilesPerTrigger\", 1)\\\n",
    "                        .json(inputPath)"
   ]
  },
  {
   "cell_type": "code",
   "execution_count": 80,
   "metadata": {},
   "outputs": [],
   "source": [
    "# Same query as staticInputDF\n",
    "streamingCountsDF = streamingInputDF\\\n",
    "                     .groupBy(streamingInputDF.action, f.window(streamingInputDF.time, \"1 hour\"))\\\n",
    "                     .count()"
   ]
  },
  {
   "cell_type": "code",
   "execution_count": 81,
   "metadata": {},
   "outputs": [
    {
     "data": {
      "text/plain": [
       "True"
      ]
     },
     "execution_count": 81,
     "metadata": {},
     "output_type": "execute_result"
    }
   ],
   "source": [
    "# Is this DF actually a streaming DF?\n",
    "streamingCountsDF.isStreaming"
   ]
  },
  {
   "cell_type": "markdown",
   "metadata": {},
   "source": [
    "As you can see, `streamingCountsDF` is a streaming Dataframe (`streamingCountsDF.isStreaming` was `true`). You can start streaming computation, by defining the sink and starting it. \n",
    "In our case, we want to interactively query the counts (same queries as above), so we will set the complete set of 1 hour counts to be in a in-memory table (note that this for testing purpose only in Spark 2.0)."
   ]
  },
  {
   "cell_type": "code",
   "execution_count": 91,
   "metadata": {},
   "outputs": [],
   "source": [
    "streaming_query = streamingCountsDF.writeStream\\\n",
    "                                   .format(\"memory\")\\\n",
    "                                   .queryName(\"counts\")\\\n",
    "                                   .outputMode(\"complete\")\\\n",
    "                                   .start()"
   ]
  },
  {
   "cell_type": "markdown",
   "metadata": {},
   "source": [
    "`query` is a handle to the streaming query that is running in the background. This query is continuously picking up files and updating the windowed counts. \n",
    "\n",
    "Note the status of query in the above cell. The progress bar shows that the query is active. \n",
    "Furthermore, if you expand the `> counts` above, you will find the number of files they have already processed. \n",
    "\n",
    "Let's wait a bit for a few files to be processed and then interactively query the in-memory `counts` table."
   ]
  },
  {
   "cell_type": "code",
   "execution_count": 92,
   "metadata": {
    "collapsed": true
   },
   "outputs": [],
   "source": [
    "query = \"\"\"\n",
    "    select action, date_format(window.end, \"MMM-dd HH:mm\") as time, count from counts order by time, action\n",
    "\"\"\""
   ]
  },
  {
   "cell_type": "code",
   "execution_count": 93,
   "metadata": {
    "collapsed": true
   },
   "outputs": [],
   "source": [
    "import time"
   ]
  },
  {
   "cell_type": "code",
   "execution_count": 94,
   "metadata": {
    "collapsed": true
   },
   "outputs": [],
   "source": [
    "from IPython.display import clear_output"
   ]
  },
  {
   "cell_type": "code",
   "execution_count": 95,
   "metadata": {},
   "outputs": [
    {
     "name": "stdout",
     "output_type": "stream",
     "text": [
      "+------+------------+-----+\n",
      "|action|        time|count|\n",
      "+------+------------+-----+\n",
      "| Close|Jul-26 06:00|   11|\n",
      "|  Open|Jul-26 06:00|  179|\n",
      "| Close|Jul-26 07:00|  344|\n",
      "|  Open|Jul-26 07:00| 1001|\n",
      "| Close|Jul-26 08:00|  815|\n",
      "|  Open|Jul-26 08:00|  999|\n",
      "| Close|Jul-26 09:00|  323|\n",
      "|  Open|Jul-26 09:00|  328|\n",
      "| Close|Jul-26 17:00|  699|\n",
      "|  Open|Jul-26 17:00|  656|\n",
      "| Close|Jul-26 18:00|  994|\n",
      "|  Open|Jul-26 18:00|  991|\n",
      "| Close|Jul-26 19:00|  988|\n",
      "|  Open|Jul-26 19:00| 1020|\n",
      "| Close|Jul-26 20:00|  984|\n",
      "|  Open|Jul-26 20:00|  992|\n",
      "| Close|Jul-26 21:00| 1036|\n",
      "|  Open|Jul-26 21:00|  990|\n",
      "| Close|Jul-26 22:00| 1001|\n",
      "|  Open|Jul-26 22:00| 1004|\n",
      "+------+------------+-----+\n",
      "only showing top 20 rows\n",
      "\n"
     ]
    },
    {
     "ename": "KeyboardInterrupt",
     "evalue": "",
     "output_type": "error",
     "traceback": [
      "\u001b[0;31m---------------------------------------------------------------------------\u001b[0m",
      "\u001b[0;31mKeyboardInterrupt\u001b[0m                         Traceback (most recent call last)",
      "\u001b[0;32m<ipython-input-95-6ca9cde65e1e>\u001b[0m in \u001b[0;36m<module>\u001b[0;34m()\u001b[0m\n\u001b[1;32m      2\u001b[0m     \u001b[0mclear_output\u001b[0m\u001b[0;34m(\u001b[0m\u001b[0;34m)\u001b[0m\u001b[0;34m\u001b[0m\u001b[0m\n\u001b[1;32m      3\u001b[0m     \u001b[0mspark\u001b[0m\u001b[0;34m.\u001b[0m\u001b[0msql\u001b[0m\u001b[0;34m(\u001b[0m\u001b[0mquery\u001b[0m\u001b[0;34m)\u001b[0m\u001b[0;34m.\u001b[0m\u001b[0mshow\u001b[0m\u001b[0;34m(\u001b[0m\u001b[0;34m)\u001b[0m\u001b[0;34m\u001b[0m\u001b[0m\n\u001b[0;32m----> 4\u001b[0;31m     \u001b[0mtime\u001b[0m\u001b[0;34m.\u001b[0m\u001b[0msleep\u001b[0m\u001b[0;34m(\u001b[0m\u001b[0;36m3\u001b[0m\u001b[0;34m)\u001b[0m\u001b[0;34m\u001b[0m\u001b[0m\n\u001b[0m",
      "\u001b[0;31mKeyboardInterrupt\u001b[0m: "
     ]
    }
   ],
   "source": [
    "while True:\n",
    "    clear_output()\n",
    "    spark.sql(query).show()\n",
    "    time.sleep(3)"
   ]
  },
  {
   "cell_type": "code",
   "execution_count": 96,
   "metadata": {},
   "outputs": [],
   "source": [
    "streaming_query.stop()"
   ]
  },
  {
   "cell_type": "markdown",
   "metadata": {},
   "source": [
    "### Unsupported Operations\n",
    "\n",
    "+ Multiple streaming aggregations (i.e. a chain of aggregations on a streaming DF) are not yet supported on streaming Datasets.\n",
    "\n",
    "+ Limit and take first N rows are not supported on streaming Datasets.\n",
    "\n",
    "+ Distinct operations on streaming Datasets are not supported.\n",
    "\n",
    "+ Sorting operations are supported on streaming Datasets only after an aggregation and in Complete Output Mode.\n",
    "\n",
    "+ Few types of outer joins on streaming Datasets are not supported. See the support matrix in the Join Operations section for more details."
   ]
  },
  {
   "cell_type": "code",
   "execution_count": 97,
   "metadata": {
    "collapsed": true
   },
   "outputs": [],
   "source": [
    "spark.stop()"
   ]
  },
  {
   "cell_type": "code",
   "execution_count": null,
   "metadata": {
    "collapsed": true
   },
   "outputs": [],
   "source": []
  }
 ],
 "metadata": {
  "kernelspec": {
   "display_name": "Python 3",
   "language": "python",
   "name": "python3"
  },
  "language_info": {
   "codemirror_mode": {
    "name": "ipython",
    "version": 3
   },
   "file_extension": ".py",
   "mimetype": "text/x-python",
   "name": "python",
   "nbconvert_exporter": "python",
   "pygments_lexer": "ipython3",
   "version": "3.4.3"
  },
  "name": "structured-streaming-python.html",
  "notebookId": 4427805701920676
 },
 "nbformat": 4,
 "nbformat_minor": 1
}
